{
  "cells": [
    {
      "cell_type": "markdown",
      "metadata": {
        "id": "view-in-github",
        "colab_type": "text"
      },
      "source": [
        "<a href=\"https://colab.research.google.com/github/vedashrith/Data-Science/blob/main/Auto_imports_Analysis3_Classification.ipynb\" target=\"_parent\"><img src=\"https://colab.research.google.com/assets/colab-badge.svg\" alt=\"Open In Colab\"/></a>"
      ]
    },
    {
      "cell_type": "markdown",
      "id": "a48b00fe",
      "metadata": {
        "id": "a48b00fe"
      },
      "source": [
        "## INSTRUCTIONS\n",
        "\n",
        "Every learner should submit his/her own homework solutions. However, you are allowed to discuss the homework with each other– but everyone must submit his/her own solution; you may not copy someone else’s solution.\n",
        "\n",
        "The homework consists of two parts:\n",
        "1.\tData from our life\n",
        "2.\tClassification\n",
        "\n",
        "Follow the prompts in the attached jupyter notebook. We are using the same data as for the previous homeworks. Use the version you created called df2 where you already cleaned, dropped some of the variables but did not create dummy variables. Instead of creating dummy variables, you have to recode this column as suggested bellow.\n",
        "Add markdown cells to your analysis to include your solutions, comments, answers. Add as many cells as you need, for easy readability comment when possible.\n",
        "\n",
        "**Note:** This homework has a bonus question, so the highest mark that can be earned is a 105.\n",
        "Submission: Send in both a ipynb and a pdf file of your work.\n",
        "Good luck!\n",
        "\n"
      ]
    },
    {
      "cell_type": "markdown",
      "id": "51fb31fa",
      "metadata": {
        "id": "51fb31fa"
      },
      "source": [
        "# 1. Data from our lives:"
      ]
    },
    {
      "cell_type": "markdown",
      "id": "4bcc0963",
      "metadata": {
        "id": "4bcc0963"
      },
      "source": [
        "### Describe a situation or problem from your job, everyday life, current events, etc., for which a classification would be appropriate."
      ]
    },
    {
      "cell_type": "markdown",
      "source": [
        "##e-mail Spam Filter\n",
        "In our daily life, we receive hundreds of mails, few of which are promotions, newsletters, spam or mails which we didn't signup for. These mails accumulate in our mail box and waste our storage and time. such mails need to be filtered and deleted because there might be presence of important mails which should not be deleted. In this scenario, classification plays a crucial role in automating the task to filter spam mails and important mails. The features are mail content, sender email address, subject, etc., and the targest variable is binary: spam or not spam. The goal is to trian the ML MODEL TO identify the incoming mails as spam or not spam based on the provided features."
      ],
      "metadata": {
        "id": "wHdesbdqmgix"
      },
      "id": "wHdesbdqmgix"
    },
    {
      "cell_type": "markdown",
      "id": "b5a7df56",
      "metadata": {
        "id": "b5a7df56"
      },
      "source": [
        "# 2. Preprocessing"
      ]
    },
    {
      "cell_type": "markdown",
      "id": "5cf4e2d8",
      "metadata": {
        "id": "5cf4e2d8"
      },
      "source": [
        "In our class we covered multiple classification methods. In this part of the home work you can compare them\n",
        "\n",
        "**Use the dataset 'auto_imports1.csv' from our previous homeworks. More specifically, use the version you created called df2 where you already cleaned, dropped some of the variables but DID NOT CREATE dummy variables. Follow the prompts to complete the homework.**"
      ]
    },
    {
      "cell_type": "code",
      "source": [
        "import pandas as pd\n",
        "\n",
        "df = pd.read_csv('df3.csv')"
      ],
      "metadata": {
        "id": "MTwS4uB2pvMW"
      },
      "id": "MTwS4uB2pvMW",
      "execution_count": null,
      "outputs": []
    },
    {
      "cell_type": "code",
      "source": [
        "df.head()"
      ],
      "metadata": {
        "colab": {
          "base_uri": "https://localhost:8080/",
          "height": 226
        },
        "id": "7GEwmD1pqM0Q",
        "outputId": "6978629a-ab1b-404a-df65-09768a1eb4c3"
      },
      "id": "7GEwmD1pqM0Q",
      "execution_count": null,
      "outputs": [
        {
          "output_type": "execute_result",
          "data": {
            "text/plain": [
              "  fuel_type  wheel_base  length  width  heights  curb_weight  engine_size  \\\n",
              "0       gas        88.6   168.8   64.1     48.8         2548          130   \n",
              "1       gas        88.6   168.8   64.1     48.8         2548          130   \n",
              "2       gas        94.5   171.2   65.5     52.4         2823          152   \n",
              "3       gas        99.8   176.6   66.2     54.3         2337          109   \n",
              "4       gas        99.4   176.6   66.4     54.3         2824          136   \n",
              "\n",
              "   bore  stroke  comprassion  horse_power  peak_rpm  city_mpg  highway_mpg  \\\n",
              "0  3.47    2.68          9.0        111.0    5000.0        21           27   \n",
              "1  3.47    2.68          9.0        111.0    5000.0        21           27   \n",
              "2  2.68    3.47          9.0        154.0    5000.0        19           26   \n",
              "3  3.19    3.40         10.0        102.0    5500.0        24           30   \n",
              "4  3.19    3.40          8.0        115.0    5500.0        18           22   \n",
              "\n",
              "   price  \n",
              "0  13495  \n",
              "1  16500  \n",
              "2  16500  \n",
              "3  13950  \n",
              "4  17450  "
            ],
            "text/html": [
              "\n",
              "  <div id=\"df-1c12b59c-8649-4061-ba4d-5142322f7e05\" class=\"colab-df-container\">\n",
              "    <div>\n",
              "<style scoped>\n",
              "    .dataframe tbody tr th:only-of-type {\n",
              "        vertical-align: middle;\n",
              "    }\n",
              "\n",
              "    .dataframe tbody tr th {\n",
              "        vertical-align: top;\n",
              "    }\n",
              "\n",
              "    .dataframe thead th {\n",
              "        text-align: right;\n",
              "    }\n",
              "</style>\n",
              "<table border=\"1\" class=\"dataframe\">\n",
              "  <thead>\n",
              "    <tr style=\"text-align: right;\">\n",
              "      <th></th>\n",
              "      <th>fuel_type</th>\n",
              "      <th>wheel_base</th>\n",
              "      <th>length</th>\n",
              "      <th>width</th>\n",
              "      <th>heights</th>\n",
              "      <th>curb_weight</th>\n",
              "      <th>engine_size</th>\n",
              "      <th>bore</th>\n",
              "      <th>stroke</th>\n",
              "      <th>comprassion</th>\n",
              "      <th>horse_power</th>\n",
              "      <th>peak_rpm</th>\n",
              "      <th>city_mpg</th>\n",
              "      <th>highway_mpg</th>\n",
              "      <th>price</th>\n",
              "    </tr>\n",
              "  </thead>\n",
              "  <tbody>\n",
              "    <tr>\n",
              "      <th>0</th>\n",
              "      <td>gas</td>\n",
              "      <td>88.6</td>\n",
              "      <td>168.8</td>\n",
              "      <td>64.1</td>\n",
              "      <td>48.8</td>\n",
              "      <td>2548</td>\n",
              "      <td>130</td>\n",
              "      <td>3.47</td>\n",
              "      <td>2.68</td>\n",
              "      <td>9.0</td>\n",
              "      <td>111.0</td>\n",
              "      <td>5000.0</td>\n",
              "      <td>21</td>\n",
              "      <td>27</td>\n",
              "      <td>13495</td>\n",
              "    </tr>\n",
              "    <tr>\n",
              "      <th>1</th>\n",
              "      <td>gas</td>\n",
              "      <td>88.6</td>\n",
              "      <td>168.8</td>\n",
              "      <td>64.1</td>\n",
              "      <td>48.8</td>\n",
              "      <td>2548</td>\n",
              "      <td>130</td>\n",
              "      <td>3.47</td>\n",
              "      <td>2.68</td>\n",
              "      <td>9.0</td>\n",
              "      <td>111.0</td>\n",
              "      <td>5000.0</td>\n",
              "      <td>21</td>\n",
              "      <td>27</td>\n",
              "      <td>16500</td>\n",
              "    </tr>\n",
              "    <tr>\n",
              "      <th>2</th>\n",
              "      <td>gas</td>\n",
              "      <td>94.5</td>\n",
              "      <td>171.2</td>\n",
              "      <td>65.5</td>\n",
              "      <td>52.4</td>\n",
              "      <td>2823</td>\n",
              "      <td>152</td>\n",
              "      <td>2.68</td>\n",
              "      <td>3.47</td>\n",
              "      <td>9.0</td>\n",
              "      <td>154.0</td>\n",
              "      <td>5000.0</td>\n",
              "      <td>19</td>\n",
              "      <td>26</td>\n",
              "      <td>16500</td>\n",
              "    </tr>\n",
              "    <tr>\n",
              "      <th>3</th>\n",
              "      <td>gas</td>\n",
              "      <td>99.8</td>\n",
              "      <td>176.6</td>\n",
              "      <td>66.2</td>\n",
              "      <td>54.3</td>\n",
              "      <td>2337</td>\n",
              "      <td>109</td>\n",
              "      <td>3.19</td>\n",
              "      <td>3.40</td>\n",
              "      <td>10.0</td>\n",
              "      <td>102.0</td>\n",
              "      <td>5500.0</td>\n",
              "      <td>24</td>\n",
              "      <td>30</td>\n",
              "      <td>13950</td>\n",
              "    </tr>\n",
              "    <tr>\n",
              "      <th>4</th>\n",
              "      <td>gas</td>\n",
              "      <td>99.4</td>\n",
              "      <td>176.6</td>\n",
              "      <td>66.4</td>\n",
              "      <td>54.3</td>\n",
              "      <td>2824</td>\n",
              "      <td>136</td>\n",
              "      <td>3.19</td>\n",
              "      <td>3.40</td>\n",
              "      <td>8.0</td>\n",
              "      <td>115.0</td>\n",
              "      <td>5500.0</td>\n",
              "      <td>18</td>\n",
              "      <td>22</td>\n",
              "      <td>17450</td>\n",
              "    </tr>\n",
              "  </tbody>\n",
              "</table>\n",
              "</div>\n",
              "    <div class=\"colab-df-buttons\">\n",
              "\n",
              "  <div class=\"colab-df-container\">\n",
              "    <button class=\"colab-df-convert\" onclick=\"convertToInteractive('df-1c12b59c-8649-4061-ba4d-5142322f7e05')\"\n",
              "            title=\"Convert this dataframe to an interactive table.\"\n",
              "            style=\"display:none;\">\n",
              "\n",
              "  <svg xmlns=\"http://www.w3.org/2000/svg\" height=\"24px\" viewBox=\"0 -960 960 960\">\n",
              "    <path d=\"M120-120v-720h720v720H120Zm60-500h600v-160H180v160Zm220 220h160v-160H400v160Zm0 220h160v-160H400v160ZM180-400h160v-160H180v160Zm440 0h160v-160H620v160ZM180-180h160v-160H180v160Zm440 0h160v-160H620v160Z\"/>\n",
              "  </svg>\n",
              "    </button>\n",
              "\n",
              "  <style>\n",
              "    .colab-df-container {\n",
              "      display:flex;\n",
              "      gap: 12px;\n",
              "    }\n",
              "\n",
              "    .colab-df-convert {\n",
              "      background-color: #E8F0FE;\n",
              "      border: none;\n",
              "      border-radius: 50%;\n",
              "      cursor: pointer;\n",
              "      display: none;\n",
              "      fill: #1967D2;\n",
              "      height: 32px;\n",
              "      padding: 0 0 0 0;\n",
              "      width: 32px;\n",
              "    }\n",
              "\n",
              "    .colab-df-convert:hover {\n",
              "      background-color: #E2EBFA;\n",
              "      box-shadow: 0px 1px 2px rgba(60, 64, 67, 0.3), 0px 1px 3px 1px rgba(60, 64, 67, 0.15);\n",
              "      fill: #174EA6;\n",
              "    }\n",
              "\n",
              "    .colab-df-buttons div {\n",
              "      margin-bottom: 4px;\n",
              "    }\n",
              "\n",
              "    [theme=dark] .colab-df-convert {\n",
              "      background-color: #3B4455;\n",
              "      fill: #D2E3FC;\n",
              "    }\n",
              "\n",
              "    [theme=dark] .colab-df-convert:hover {\n",
              "      background-color: #434B5C;\n",
              "      box-shadow: 0px 1px 3px 1px rgba(0, 0, 0, 0.15);\n",
              "      filter: drop-shadow(0px 1px 2px rgba(0, 0, 0, 0.3));\n",
              "      fill: #FFFFFF;\n",
              "    }\n",
              "  </style>\n",
              "\n",
              "    <script>\n",
              "      const buttonEl =\n",
              "        document.querySelector('#df-1c12b59c-8649-4061-ba4d-5142322f7e05 button.colab-df-convert');\n",
              "      buttonEl.style.display =\n",
              "        google.colab.kernel.accessAllowed ? 'block' : 'none';\n",
              "\n",
              "      async function convertToInteractive(key) {\n",
              "        const element = document.querySelector('#df-1c12b59c-8649-4061-ba4d-5142322f7e05');\n",
              "        const dataTable =\n",
              "          await google.colab.kernel.invokeFunction('convertToInteractive',\n",
              "                                                    [key], {});\n",
              "        if (!dataTable) return;\n",
              "\n",
              "        const docLinkHtml = 'Like what you see? Visit the ' +\n",
              "          '<a target=\"_blank\" href=https://colab.research.google.com/notebooks/data_table.ipynb>data table notebook</a>'\n",
              "          + ' to learn more about interactive tables.';\n",
              "        element.innerHTML = '';\n",
              "        dataTable['output_type'] = 'display_data';\n",
              "        await google.colab.output.renderOutput(dataTable, element);\n",
              "        const docLink = document.createElement('div');\n",
              "        docLink.innerHTML = docLinkHtml;\n",
              "        element.appendChild(docLink);\n",
              "      }\n",
              "    </script>\n",
              "  </div>\n",
              "\n",
              "\n",
              "<div id=\"df-68f86644-653e-44f3-9ae7-403fa83d7583\">\n",
              "  <button class=\"colab-df-quickchart\" onclick=\"quickchart('df-68f86644-653e-44f3-9ae7-403fa83d7583')\"\n",
              "            title=\"Suggest charts\"\n",
              "            style=\"display:none;\">\n",
              "\n",
              "<svg xmlns=\"http://www.w3.org/2000/svg\" height=\"24px\"viewBox=\"0 0 24 24\"\n",
              "     width=\"24px\">\n",
              "    <g>\n",
              "        <path d=\"M19 3H5c-1.1 0-2 .9-2 2v14c0 1.1.9 2 2 2h14c1.1 0 2-.9 2-2V5c0-1.1-.9-2-2-2zM9 17H7v-7h2v7zm4 0h-2V7h2v10zm4 0h-2v-4h2v4z\"/>\n",
              "    </g>\n",
              "</svg>\n",
              "  </button>\n",
              "\n",
              "<style>\n",
              "  .colab-df-quickchart {\n",
              "      --bg-color: #E8F0FE;\n",
              "      --fill-color: #1967D2;\n",
              "      --hover-bg-color: #E2EBFA;\n",
              "      --hover-fill-color: #174EA6;\n",
              "      --disabled-fill-color: #AAA;\n",
              "      --disabled-bg-color: #DDD;\n",
              "  }\n",
              "\n",
              "  [theme=dark] .colab-df-quickchart {\n",
              "      --bg-color: #3B4455;\n",
              "      --fill-color: #D2E3FC;\n",
              "      --hover-bg-color: #434B5C;\n",
              "      --hover-fill-color: #FFFFFF;\n",
              "      --disabled-bg-color: #3B4455;\n",
              "      --disabled-fill-color: #666;\n",
              "  }\n",
              "\n",
              "  .colab-df-quickchart {\n",
              "    background-color: var(--bg-color);\n",
              "    border: none;\n",
              "    border-radius: 50%;\n",
              "    cursor: pointer;\n",
              "    display: none;\n",
              "    fill: var(--fill-color);\n",
              "    height: 32px;\n",
              "    padding: 0;\n",
              "    width: 32px;\n",
              "  }\n",
              "\n",
              "  .colab-df-quickchart:hover {\n",
              "    background-color: var(--hover-bg-color);\n",
              "    box-shadow: 0 1px 2px rgba(60, 64, 67, 0.3), 0 1px 3px 1px rgba(60, 64, 67, 0.15);\n",
              "    fill: var(--button-hover-fill-color);\n",
              "  }\n",
              "\n",
              "  .colab-df-quickchart-complete:disabled,\n",
              "  .colab-df-quickchart-complete:disabled:hover {\n",
              "    background-color: var(--disabled-bg-color);\n",
              "    fill: var(--disabled-fill-color);\n",
              "    box-shadow: none;\n",
              "  }\n",
              "\n",
              "  .colab-df-spinner {\n",
              "    border: 2px solid var(--fill-color);\n",
              "    border-color: transparent;\n",
              "    border-bottom-color: var(--fill-color);\n",
              "    animation:\n",
              "      spin 1s steps(1) infinite;\n",
              "  }\n",
              "\n",
              "  @keyframes spin {\n",
              "    0% {\n",
              "      border-color: transparent;\n",
              "      border-bottom-color: var(--fill-color);\n",
              "      border-left-color: var(--fill-color);\n",
              "    }\n",
              "    20% {\n",
              "      border-color: transparent;\n",
              "      border-left-color: var(--fill-color);\n",
              "      border-top-color: var(--fill-color);\n",
              "    }\n",
              "    30% {\n",
              "      border-color: transparent;\n",
              "      border-left-color: var(--fill-color);\n",
              "      border-top-color: var(--fill-color);\n",
              "      border-right-color: var(--fill-color);\n",
              "    }\n",
              "    40% {\n",
              "      border-color: transparent;\n",
              "      border-right-color: var(--fill-color);\n",
              "      border-top-color: var(--fill-color);\n",
              "    }\n",
              "    60% {\n",
              "      border-color: transparent;\n",
              "      border-right-color: var(--fill-color);\n",
              "    }\n",
              "    80% {\n",
              "      border-color: transparent;\n",
              "      border-right-color: var(--fill-color);\n",
              "      border-bottom-color: var(--fill-color);\n",
              "    }\n",
              "    90% {\n",
              "      border-color: transparent;\n",
              "      border-bottom-color: var(--fill-color);\n",
              "    }\n",
              "  }\n",
              "</style>\n",
              "\n",
              "  <script>\n",
              "    async function quickchart(key) {\n",
              "      const quickchartButtonEl =\n",
              "        document.querySelector('#' + key + ' button');\n",
              "      quickchartButtonEl.disabled = true;  // To prevent multiple clicks.\n",
              "      quickchartButtonEl.classList.add('colab-df-spinner');\n",
              "      try {\n",
              "        const charts = await google.colab.kernel.invokeFunction(\n",
              "            'suggestCharts', [key], {});\n",
              "      } catch (error) {\n",
              "        console.error('Error during call to suggestCharts:', error);\n",
              "      }\n",
              "      quickchartButtonEl.classList.remove('colab-df-spinner');\n",
              "      quickchartButtonEl.classList.add('colab-df-quickchart-complete');\n",
              "    }\n",
              "    (() => {\n",
              "      let quickchartButtonEl =\n",
              "        document.querySelector('#df-68f86644-653e-44f3-9ae7-403fa83d7583 button');\n",
              "      quickchartButtonEl.style.display =\n",
              "        google.colab.kernel.accessAllowed ? 'block' : 'none';\n",
              "    })();\n",
              "  </script>\n",
              "</div>\n",
              "    </div>\n",
              "  </div>\n"
            ]
          },
          "metadata": {},
          "execution_count": 2
        }
      ]
    },
    {
      "cell_type": "markdown",
      "source": [
        "The dataset is cleaned as per requirement and saved as 'df3.csv' and imported here to perform classification."
      ],
      "metadata": {
        "id": "VoW-IxzfoOwE"
      },
      "id": "VoW-IxzfoOwE"
    },
    {
      "cell_type": "markdown",
      "id": "7356dab7",
      "metadata": {
        "id": "7356dab7"
      },
      "source": [
        "## 2.1 **Replace ['gas', 'diesel'] string values to [0, 1]**"
      ]
    },
    {
      "cell_type": "code",
      "execution_count": null,
      "id": "127b23b0",
      "metadata": {
        "id": "127b23b0"
      },
      "outputs": [],
      "source": [
        "#Your code\n",
        "df['fuel_type'] = df['fuel_type'].replace({'gas':0, 'diesel':1})"
      ]
    },
    {
      "cell_type": "markdown",
      "source": [
        "Replaced the variable 'fuel_type' content from gas and diesel to 0 and 1."
      ],
      "metadata": {
        "id": "_8lPMWkKolkU"
      },
      "id": "_8lPMWkKolkU"
    },
    {
      "cell_type": "code",
      "source": [
        "df.head()"
      ],
      "metadata": {
        "colab": {
          "base_uri": "https://localhost:8080/",
          "height": 226
        },
        "id": "jyIVmkohqnX7",
        "outputId": "cf64d7b7-08a5-4646-a410-a04534d65062"
      },
      "id": "jyIVmkohqnX7",
      "execution_count": null,
      "outputs": [
        {
          "output_type": "execute_result",
          "data": {
            "text/plain": [
              "   fuel_type  wheel_base  length  width  heights  curb_weight  engine_size  \\\n",
              "0          0        88.6   168.8   64.1     48.8         2548          130   \n",
              "1          0        88.6   168.8   64.1     48.8         2548          130   \n",
              "2          0        94.5   171.2   65.5     52.4         2823          152   \n",
              "3          0        99.8   176.6   66.2     54.3         2337          109   \n",
              "4          0        99.4   176.6   66.4     54.3         2824          136   \n",
              "\n",
              "   bore  stroke  comprassion  horse_power  peak_rpm  city_mpg  highway_mpg  \\\n",
              "0  3.47    2.68          9.0        111.0    5000.0        21           27   \n",
              "1  3.47    2.68          9.0        111.0    5000.0        21           27   \n",
              "2  2.68    3.47          9.0        154.0    5000.0        19           26   \n",
              "3  3.19    3.40         10.0        102.0    5500.0        24           30   \n",
              "4  3.19    3.40          8.0        115.0    5500.0        18           22   \n",
              "\n",
              "   price  \n",
              "0  13495  \n",
              "1  16500  \n",
              "2  16500  \n",
              "3  13950  \n",
              "4  17450  "
            ],
            "text/html": [
              "\n",
              "  <div id=\"df-1f088246-753a-468a-9cbd-d4d6c3b2947a\" class=\"colab-df-container\">\n",
              "    <div>\n",
              "<style scoped>\n",
              "    .dataframe tbody tr th:only-of-type {\n",
              "        vertical-align: middle;\n",
              "    }\n",
              "\n",
              "    .dataframe tbody tr th {\n",
              "        vertical-align: top;\n",
              "    }\n",
              "\n",
              "    .dataframe thead th {\n",
              "        text-align: right;\n",
              "    }\n",
              "</style>\n",
              "<table border=\"1\" class=\"dataframe\">\n",
              "  <thead>\n",
              "    <tr style=\"text-align: right;\">\n",
              "      <th></th>\n",
              "      <th>fuel_type</th>\n",
              "      <th>wheel_base</th>\n",
              "      <th>length</th>\n",
              "      <th>width</th>\n",
              "      <th>heights</th>\n",
              "      <th>curb_weight</th>\n",
              "      <th>engine_size</th>\n",
              "      <th>bore</th>\n",
              "      <th>stroke</th>\n",
              "      <th>comprassion</th>\n",
              "      <th>horse_power</th>\n",
              "      <th>peak_rpm</th>\n",
              "      <th>city_mpg</th>\n",
              "      <th>highway_mpg</th>\n",
              "      <th>price</th>\n",
              "    </tr>\n",
              "  </thead>\n",
              "  <tbody>\n",
              "    <tr>\n",
              "      <th>0</th>\n",
              "      <td>0</td>\n",
              "      <td>88.6</td>\n",
              "      <td>168.8</td>\n",
              "      <td>64.1</td>\n",
              "      <td>48.8</td>\n",
              "      <td>2548</td>\n",
              "      <td>130</td>\n",
              "      <td>3.47</td>\n",
              "      <td>2.68</td>\n",
              "      <td>9.0</td>\n",
              "      <td>111.0</td>\n",
              "      <td>5000.0</td>\n",
              "      <td>21</td>\n",
              "      <td>27</td>\n",
              "      <td>13495</td>\n",
              "    </tr>\n",
              "    <tr>\n",
              "      <th>1</th>\n",
              "      <td>0</td>\n",
              "      <td>88.6</td>\n",
              "      <td>168.8</td>\n",
              "      <td>64.1</td>\n",
              "      <td>48.8</td>\n",
              "      <td>2548</td>\n",
              "      <td>130</td>\n",
              "      <td>3.47</td>\n",
              "      <td>2.68</td>\n",
              "      <td>9.0</td>\n",
              "      <td>111.0</td>\n",
              "      <td>5000.0</td>\n",
              "      <td>21</td>\n",
              "      <td>27</td>\n",
              "      <td>16500</td>\n",
              "    </tr>\n",
              "    <tr>\n",
              "      <th>2</th>\n",
              "      <td>0</td>\n",
              "      <td>94.5</td>\n",
              "      <td>171.2</td>\n",
              "      <td>65.5</td>\n",
              "      <td>52.4</td>\n",
              "      <td>2823</td>\n",
              "      <td>152</td>\n",
              "      <td>2.68</td>\n",
              "      <td>3.47</td>\n",
              "      <td>9.0</td>\n",
              "      <td>154.0</td>\n",
              "      <td>5000.0</td>\n",
              "      <td>19</td>\n",
              "      <td>26</td>\n",
              "      <td>16500</td>\n",
              "    </tr>\n",
              "    <tr>\n",
              "      <th>3</th>\n",
              "      <td>0</td>\n",
              "      <td>99.8</td>\n",
              "      <td>176.6</td>\n",
              "      <td>66.2</td>\n",
              "      <td>54.3</td>\n",
              "      <td>2337</td>\n",
              "      <td>109</td>\n",
              "      <td>3.19</td>\n",
              "      <td>3.40</td>\n",
              "      <td>10.0</td>\n",
              "      <td>102.0</td>\n",
              "      <td>5500.0</td>\n",
              "      <td>24</td>\n",
              "      <td>30</td>\n",
              "      <td>13950</td>\n",
              "    </tr>\n",
              "    <tr>\n",
              "      <th>4</th>\n",
              "      <td>0</td>\n",
              "      <td>99.4</td>\n",
              "      <td>176.6</td>\n",
              "      <td>66.4</td>\n",
              "      <td>54.3</td>\n",
              "      <td>2824</td>\n",
              "      <td>136</td>\n",
              "      <td>3.19</td>\n",
              "      <td>3.40</td>\n",
              "      <td>8.0</td>\n",
              "      <td>115.0</td>\n",
              "      <td>5500.0</td>\n",
              "      <td>18</td>\n",
              "      <td>22</td>\n",
              "      <td>17450</td>\n",
              "    </tr>\n",
              "  </tbody>\n",
              "</table>\n",
              "</div>\n",
              "    <div class=\"colab-df-buttons\">\n",
              "\n",
              "  <div class=\"colab-df-container\">\n",
              "    <button class=\"colab-df-convert\" onclick=\"convertToInteractive('df-1f088246-753a-468a-9cbd-d4d6c3b2947a')\"\n",
              "            title=\"Convert this dataframe to an interactive table.\"\n",
              "            style=\"display:none;\">\n",
              "\n",
              "  <svg xmlns=\"http://www.w3.org/2000/svg\" height=\"24px\" viewBox=\"0 -960 960 960\">\n",
              "    <path d=\"M120-120v-720h720v720H120Zm60-500h600v-160H180v160Zm220 220h160v-160H400v160Zm0 220h160v-160H400v160ZM180-400h160v-160H180v160Zm440 0h160v-160H620v160ZM180-180h160v-160H180v160Zm440 0h160v-160H620v160Z\"/>\n",
              "  </svg>\n",
              "    </button>\n",
              "\n",
              "  <style>\n",
              "    .colab-df-container {\n",
              "      display:flex;\n",
              "      gap: 12px;\n",
              "    }\n",
              "\n",
              "    .colab-df-convert {\n",
              "      background-color: #E8F0FE;\n",
              "      border: none;\n",
              "      border-radius: 50%;\n",
              "      cursor: pointer;\n",
              "      display: none;\n",
              "      fill: #1967D2;\n",
              "      height: 32px;\n",
              "      padding: 0 0 0 0;\n",
              "      width: 32px;\n",
              "    }\n",
              "\n",
              "    .colab-df-convert:hover {\n",
              "      background-color: #E2EBFA;\n",
              "      box-shadow: 0px 1px 2px rgba(60, 64, 67, 0.3), 0px 1px 3px 1px rgba(60, 64, 67, 0.15);\n",
              "      fill: #174EA6;\n",
              "    }\n",
              "\n",
              "    .colab-df-buttons div {\n",
              "      margin-bottom: 4px;\n",
              "    }\n",
              "\n",
              "    [theme=dark] .colab-df-convert {\n",
              "      background-color: #3B4455;\n",
              "      fill: #D2E3FC;\n",
              "    }\n",
              "\n",
              "    [theme=dark] .colab-df-convert:hover {\n",
              "      background-color: #434B5C;\n",
              "      box-shadow: 0px 1px 3px 1px rgba(0, 0, 0, 0.15);\n",
              "      filter: drop-shadow(0px 1px 2px rgba(0, 0, 0, 0.3));\n",
              "      fill: #FFFFFF;\n",
              "    }\n",
              "  </style>\n",
              "\n",
              "    <script>\n",
              "      const buttonEl =\n",
              "        document.querySelector('#df-1f088246-753a-468a-9cbd-d4d6c3b2947a button.colab-df-convert');\n",
              "      buttonEl.style.display =\n",
              "        google.colab.kernel.accessAllowed ? 'block' : 'none';\n",
              "\n",
              "      async function convertToInteractive(key) {\n",
              "        const element = document.querySelector('#df-1f088246-753a-468a-9cbd-d4d6c3b2947a');\n",
              "        const dataTable =\n",
              "          await google.colab.kernel.invokeFunction('convertToInteractive',\n",
              "                                                    [key], {});\n",
              "        if (!dataTable) return;\n",
              "\n",
              "        const docLinkHtml = 'Like what you see? Visit the ' +\n",
              "          '<a target=\"_blank\" href=https://colab.research.google.com/notebooks/data_table.ipynb>data table notebook</a>'\n",
              "          + ' to learn more about interactive tables.';\n",
              "        element.innerHTML = '';\n",
              "        dataTable['output_type'] = 'display_data';\n",
              "        await google.colab.output.renderOutput(dataTable, element);\n",
              "        const docLink = document.createElement('div');\n",
              "        docLink.innerHTML = docLinkHtml;\n",
              "        element.appendChild(docLink);\n",
              "      }\n",
              "    </script>\n",
              "  </div>\n",
              "\n",
              "\n",
              "<div id=\"df-a20d2feb-ba63-4329-8a2a-0f2532417b06\">\n",
              "  <button class=\"colab-df-quickchart\" onclick=\"quickchart('df-a20d2feb-ba63-4329-8a2a-0f2532417b06')\"\n",
              "            title=\"Suggest charts\"\n",
              "            style=\"display:none;\">\n",
              "\n",
              "<svg xmlns=\"http://www.w3.org/2000/svg\" height=\"24px\"viewBox=\"0 0 24 24\"\n",
              "     width=\"24px\">\n",
              "    <g>\n",
              "        <path d=\"M19 3H5c-1.1 0-2 .9-2 2v14c0 1.1.9 2 2 2h14c1.1 0 2-.9 2-2V5c0-1.1-.9-2-2-2zM9 17H7v-7h2v7zm4 0h-2V7h2v10zm4 0h-2v-4h2v4z\"/>\n",
              "    </g>\n",
              "</svg>\n",
              "  </button>\n",
              "\n",
              "<style>\n",
              "  .colab-df-quickchart {\n",
              "      --bg-color: #E8F0FE;\n",
              "      --fill-color: #1967D2;\n",
              "      --hover-bg-color: #E2EBFA;\n",
              "      --hover-fill-color: #174EA6;\n",
              "      --disabled-fill-color: #AAA;\n",
              "      --disabled-bg-color: #DDD;\n",
              "  }\n",
              "\n",
              "  [theme=dark] .colab-df-quickchart {\n",
              "      --bg-color: #3B4455;\n",
              "      --fill-color: #D2E3FC;\n",
              "      --hover-bg-color: #434B5C;\n",
              "      --hover-fill-color: #FFFFFF;\n",
              "      --disabled-bg-color: #3B4455;\n",
              "      --disabled-fill-color: #666;\n",
              "  }\n",
              "\n",
              "  .colab-df-quickchart {\n",
              "    background-color: var(--bg-color);\n",
              "    border: none;\n",
              "    border-radius: 50%;\n",
              "    cursor: pointer;\n",
              "    display: none;\n",
              "    fill: var(--fill-color);\n",
              "    height: 32px;\n",
              "    padding: 0;\n",
              "    width: 32px;\n",
              "  }\n",
              "\n",
              "  .colab-df-quickchart:hover {\n",
              "    background-color: var(--hover-bg-color);\n",
              "    box-shadow: 0 1px 2px rgba(60, 64, 67, 0.3), 0 1px 3px 1px rgba(60, 64, 67, 0.15);\n",
              "    fill: var(--button-hover-fill-color);\n",
              "  }\n",
              "\n",
              "  .colab-df-quickchart-complete:disabled,\n",
              "  .colab-df-quickchart-complete:disabled:hover {\n",
              "    background-color: var(--disabled-bg-color);\n",
              "    fill: var(--disabled-fill-color);\n",
              "    box-shadow: none;\n",
              "  }\n",
              "\n",
              "  .colab-df-spinner {\n",
              "    border: 2px solid var(--fill-color);\n",
              "    border-color: transparent;\n",
              "    border-bottom-color: var(--fill-color);\n",
              "    animation:\n",
              "      spin 1s steps(1) infinite;\n",
              "  }\n",
              "\n",
              "  @keyframes spin {\n",
              "    0% {\n",
              "      border-color: transparent;\n",
              "      border-bottom-color: var(--fill-color);\n",
              "      border-left-color: var(--fill-color);\n",
              "    }\n",
              "    20% {\n",
              "      border-color: transparent;\n",
              "      border-left-color: var(--fill-color);\n",
              "      border-top-color: var(--fill-color);\n",
              "    }\n",
              "    30% {\n",
              "      border-color: transparent;\n",
              "      border-left-color: var(--fill-color);\n",
              "      border-top-color: var(--fill-color);\n",
              "      border-right-color: var(--fill-color);\n",
              "    }\n",
              "    40% {\n",
              "      border-color: transparent;\n",
              "      border-right-color: var(--fill-color);\n",
              "      border-top-color: var(--fill-color);\n",
              "    }\n",
              "    60% {\n",
              "      border-color: transparent;\n",
              "      border-right-color: var(--fill-color);\n",
              "    }\n",
              "    80% {\n",
              "      border-color: transparent;\n",
              "      border-right-color: var(--fill-color);\n",
              "      border-bottom-color: var(--fill-color);\n",
              "    }\n",
              "    90% {\n",
              "      border-color: transparent;\n",
              "      border-bottom-color: var(--fill-color);\n",
              "    }\n",
              "  }\n",
              "</style>\n",
              "\n",
              "  <script>\n",
              "    async function quickchart(key) {\n",
              "      const quickchartButtonEl =\n",
              "        document.querySelector('#' + key + ' button');\n",
              "      quickchartButtonEl.disabled = true;  // To prevent multiple clicks.\n",
              "      quickchartButtonEl.classList.add('colab-df-spinner');\n",
              "      try {\n",
              "        const charts = await google.colab.kernel.invokeFunction(\n",
              "            'suggestCharts', [key], {});\n",
              "      } catch (error) {\n",
              "        console.error('Error during call to suggestCharts:', error);\n",
              "      }\n",
              "      quickchartButtonEl.classList.remove('colab-df-spinner');\n",
              "      quickchartButtonEl.classList.add('colab-df-quickchart-complete');\n",
              "    }\n",
              "    (() => {\n",
              "      let quickchartButtonEl =\n",
              "        document.querySelector('#df-a20d2feb-ba63-4329-8a2a-0f2532417b06 button');\n",
              "      quickchartButtonEl.style.display =\n",
              "        google.colab.kernel.accessAllowed ? 'block' : 'none';\n",
              "    })();\n",
              "  </script>\n",
              "</div>\n",
              "    </div>\n",
              "  </div>\n"
            ]
          },
          "metadata": {},
          "execution_count": 4
        }
      ]
    },
    {
      "cell_type": "markdown",
      "id": "c3851124",
      "metadata": {
        "id": "c3851124"
      },
      "source": [
        "## 2.2 : Define your X and y: your dependent variable is fuel_type, the rest of the variables are your independent variables"
      ]
    },
    {
      "cell_type": "code",
      "execution_count": null,
      "id": "f3735085",
      "metadata": {
        "id": "f3735085"
      },
      "outputs": [],
      "source": [
        "#your code\n",
        "y = df['fuel_type']\n",
        "X = df.drop(columns = ['fuel_type'])"
      ]
    },
    {
      "cell_type": "markdown",
      "source": [
        "The variable y is the Target variable.\n",
        "The variable X consists of all the predictor variables/features."
      ],
      "metadata": {
        "id": "4HUzs32go4Ud"
      },
      "id": "4HUzs32go4Ud"
    },
    {
      "cell_type": "markdown",
      "id": "cf86f4df",
      "metadata": {
        "id": "cf86f4df"
      },
      "source": [
        "## 2.3 Split your data into training and testing set. Use test_size=0.3, random_state=746 !"
      ]
    },
    {
      "cell_type": "code",
      "execution_count": null,
      "id": "2e6c1b4f",
      "metadata": {
        "id": "2e6c1b4f"
      },
      "outputs": [],
      "source": [
        "#your code\n",
        "from sklearn.model_selection import train_test_split\n",
        "\n",
        "X_train, X_test, y_train, y_test = train_test_split(X , y, test_size = 0.3, random_state = 746)"
      ]
    },
    {
      "cell_type": "markdown",
      "source": [
        "We have imported train_test_split from sklearn.model_selection package to split the data into train and test datasets. The train dataset has 70% of data and test has 30% of data."
      ],
      "metadata": {
        "id": "kKA6B0ftpHAV"
      },
      "id": "kKA6B0ftpHAV"
    },
    {
      "cell_type": "markdown",
      "id": "4ad2fd64",
      "metadata": {
        "id": "4ad2fd64"
      },
      "source": [
        "# 3. Classification"
      ]
    },
    {
      "cell_type": "markdown",
      "id": "35ea935a",
      "metadata": {
        "id": "35ea935a"
      },
      "source": [
        "### 3.1 Use Logistic regression to classify your data. Print/report your confusion matrix, classification report and AUC"
      ]
    },
    {
      "cell_type": "code",
      "execution_count": null,
      "id": "ab66e66a",
      "metadata": {
        "colab": {
          "base_uri": "https://localhost:8080/"
        },
        "id": "ab66e66a",
        "outputId": "e72d2682-8f44-4f8d-9b08-f2daee4c537d"
      },
      "outputs": [
        {
          "output_type": "stream",
          "name": "stdout",
          "text": [
            "Confusion matrix:\n",
            " [[50  0]\n",
            " [ 0  9]]\n",
            "Classification report:\n",
            "               precision    recall  f1-score   support\n",
            "\n",
            "           0       1.00      1.00      1.00        50\n",
            "           1       1.00      1.00      1.00         9\n",
            "\n",
            "    accuracy                           1.00        59\n",
            "   macro avg       1.00      1.00      1.00        59\n",
            "weighted avg       1.00      1.00      1.00        59\n",
            "\n",
            "AUC score:\n",
            " 1.0\n"
          ]
        }
      ],
      "source": [
        "#your code\n",
        "from sklearn.linear_model import LogisticRegression\n",
        "from sklearn.metrics import confusion_matrix, classification_report, roc_auc_score\n",
        "\n",
        "log = LogisticRegression(max_iter=1000)\n",
        "log.fit(X_train, y_train)\n",
        "\n",
        "y_pred = log.predict(X_test)\n",
        "\n",
        "print(\"Confusion matrix:\\n\",confusion_matrix(y_test, y_pred))\n",
        "\n",
        "print(\"Classification report:\\n\",classification_report(y_test, y_pred))\n",
        "print(\"AUC score:\\n\", roc_auc_score(y_test, y_pred))"
      ]
    },
    {
      "cell_type": "markdown",
      "source": [
        "Logistic Regression:\n",
        "Logistic function uses a logistic function to transform the output of the linear function into a probabity value.\n",
        "\n",
        "We train the model by fitting X_train and y_train and predict the target variable as y_pred.\n",
        "\n",
        "The output of this model indicates excellent performance by the model. The Confusion matrix shows no false positives and no false negatives, that means the model predicted all the instances correctly.\n",
        "\n",
        "The Classification report gives the perfect precision, recall and f1 scores for both the classes: gas and diesel.\n",
        "\n",
        "The AUC score of 1.0 indicates the model is able to distinguish between positive and negative classes perfectly.\n",
        "\n",
        "The overall performance of this Logistic Regression model is high and perfect."
      ],
      "metadata": {
        "id": "c24xMKJ3ploM"
      },
      "id": "c24xMKJ3ploM"
    },
    {
      "cell_type": "markdown",
      "id": "2d3360f1",
      "metadata": {
        "id": "2d3360f1"
      },
      "source": [
        "### 3.2 Use Naive Bayes to classify your data. Print/report your confusion matrix, classification report and AUC"
      ]
    },
    {
      "cell_type": "code",
      "execution_count": null,
      "id": "131bcdbf",
      "metadata": {
        "colab": {
          "base_uri": "https://localhost:8080/"
        },
        "id": "131bcdbf",
        "outputId": "d138c634-7e32-4a98-b084-af281eaa44f0"
      },
      "outputs": [
        {
          "output_type": "stream",
          "name": "stdout",
          "text": [
            "Confusion matrix:\n",
            " [[50  0]\n",
            " [ 0  9]]\n",
            "Classification Report:\n",
            "               precision    recall  f1-score   support\n",
            "\n",
            "           0       1.00      1.00      1.00        50\n",
            "           1       1.00      1.00      1.00         9\n",
            "\n",
            "    accuracy                           1.00        59\n",
            "   macro avg       1.00      1.00      1.00        59\n",
            "weighted avg       1.00      1.00      1.00        59\n",
            "\n",
            "AUC score: 1.0\n"
          ]
        }
      ],
      "source": [
        "#your code\n",
        "from sklearn.naive_bayes import GaussianNB\n",
        "\n",
        "nb = GaussianNB()\n",
        "nb.fit(X_train, y_train)\n",
        "\n",
        "y_pred = nb.predict(X_test)\n",
        "y_pred_prob = nb.predict_proba(X_test)[:,1]\n",
        "auc = roc_auc_score(y_test, y_pred_prob)\n",
        "\n",
        "print('Confusion matrix:\\n',confusion_matrix(y_test, y_pred))\n",
        "print('Classification Report:\\n', classification_report(y_test, y_pred))\n",
        "print('AUC score:',auc)"
      ]
    },
    {
      "cell_type": "markdown",
      "source": [
        "Naive Bayes Classification Technicque is extremely fast relative to other classification algorithms. It works on Bayes' Theorem of probability to predict the class of unknown datasets.\n",
        "\n",
        "We have imported GaussianNB from sklearn.naive_bayes library\n",
        "\n",
        "We train the model by fitting X_train and y_train and predict the target variable as y_pred.\n",
        "\n",
        "The output of this model indicates excellent performance by the model. The Confusion matrix shows no false positives and no false negatives, that means the model predicted all the instances correctly.\n",
        "\n",
        "The Classification report gives the perfect precision, recall and f1 scores for both the classes: gas and diesel.\n",
        "\n",
        "The AUC score of 1.0 indicates the model is able to distinguish between positive and negative classes perfectly.\n",
        "\n",
        "The overall performance of this model is high and perfect.\n",
        "\n"
      ],
      "metadata": {
        "id": "kjCmKqM9teNv"
      },
      "id": "kjCmKqM9teNv"
    },
    {
      "cell_type": "markdown",
      "id": "c495f2d4",
      "metadata": {
        "id": "c495f2d4"
      },
      "source": [
        "### 3.3 Use KNN to classify your data. First find the optimal k and than run you classification. Print/report your confusion matrix, classification report and AUC"
      ]
    },
    {
      "cell_type": "code",
      "execution_count": null,
      "id": "afd53354",
      "metadata": {
        "colab": {
          "base_uri": "https://localhost:8080/"
        },
        "id": "afd53354",
        "outputId": "ed9979d4-d399-4d3c-a1e9-b4d474317414"
      },
      "outputs": [
        {
          "output_type": "stream",
          "name": "stdout",
          "text": [
            "optimal k value: 2\n",
            "Confusion Matrix:\n",
            " [[50  0]\n",
            " [ 8  1]]\n",
            "Classification Report:\n",
            "               precision    recall  f1-score   support\n",
            "\n",
            "           0       0.86      1.00      0.93        50\n",
            "           1       1.00      0.11      0.20         9\n",
            "\n",
            "    accuracy                           0.86        59\n",
            "   macro avg       0.93      0.56      0.56        59\n",
            "weighted avg       0.88      0.86      0.82        59\n",
            "\n",
            "AUC score 0.5555555555555556\n"
          ]
        }
      ],
      "source": [
        "#your code\n",
        "from sklearn.model_selection import GridSearchCV\n",
        "from sklearn.neighbors import KNeighborsClassifier\n",
        "\n",
        "par = {'n_neighbors': range(1, 20)}\n",
        "knn = KNeighborsClassifier()\n",
        "g_search = GridSearchCV(knn, par, cv = 5, scoring = 'accuracy')\n",
        "g_search.fit(X_train, y_train)\n",
        "\n",
        "k = g_search.best_params_['n_neighbors']\n",
        "print(\"optimal k value:\", k)\n",
        "\n",
        "opt_knn = KNeighborsClassifier(n_neighbors = k)\n",
        "opt_knn.fit(X_train, y_train)\n",
        "y_pred = opt_knn.predict(X_test)\n",
        "\n",
        "print(\"Confusion Matrix:\\n\",confusion_matrix(y_test, y_pred))\n",
        "print(\"Classification Report:\\n\", classification_report(y_test, y_pred))\n",
        "print(\"AUC score\", roc_auc_score(y_test, y_pred))"
      ]
    },
    {
      "cell_type": "markdown",
      "source": [
        "KNN: K-Nearest Neighbors (KNN) is a straightforward and intuitive machine learning algorithm used for both classification and regression tasks. Given a new, unseen data point, KNN identifies its nearest neighbors based on a similarity measure. It then classifies the new data point by a majority vote among its K-nearest neighbors. The class assigned to the new data point is the most common class among its K-nearest neighbors.  \n",
        "\n",
        "Optimal K value is calculated as 2.  \n",
        "\n",
        "The number of False negatives are 8 that indicates the model is facing issues with the fuel_type: 1. The precision and recall for diesel class are significantly affected. This is due to imbalanced nature of the dataset. The AUC score is 0.55 which indicates that the model performed poorly."
      ],
      "metadata": {
        "id": "FE35oL5E4w4C"
      },
      "id": "FE35oL5E4w4C"
    },
    {
      "cell_type": "markdown",
      "id": "e3371eae",
      "metadata": {
        "id": "e3371eae"
      },
      "source": [
        "### 3.4 Choose one: SVM or Random Forest to classify your data. Print/report your confusion matrix, classification report and AUC"
      ]
    },
    {
      "cell_type": "code",
      "execution_count": null,
      "id": "e7b82419",
      "metadata": {
        "colab": {
          "base_uri": "https://localhost:8080/"
        },
        "id": "e7b82419",
        "outputId": "1d98fea8-c7ec-4ad5-a7ec-f1aed698bc69"
      },
      "outputs": [
        {
          "output_type": "stream",
          "name": "stdout",
          "text": [
            "Confusion Matrix:\n",
            " [[50  0]\n",
            " [ 0  9]]\n",
            "Classification Report:\n",
            "               precision    recall  f1-score   support\n",
            "\n",
            "           0       1.00      1.00      1.00        50\n",
            "           1       1.00      1.00      1.00         9\n",
            "\n",
            "    accuracy                           1.00        59\n",
            "   macro avg       1.00      1.00      1.00        59\n",
            "weighted avg       1.00      1.00      1.00        59\n",
            "\n",
            "AUC score: 1.0\n"
          ]
        }
      ],
      "source": [
        "#your code\n",
        "from sklearn.ensemble import RandomForestClassifier\n",
        "\n",
        "rf = RandomForestClassifier()\n",
        "rf.fit(X_train, y_train)\n",
        "\n",
        "y_pred = rf.predict(X_test)\n",
        "y_pred_prob = rf.predict_proba(X_test)[:,1]\n",
        "print(\"Confusion Matrix:\\n\",confusion_matrix(y_test, y_pred))\n",
        "print(\"Classification Report:\\n\",classification_report(y_test, y_pred))\n",
        "print(\"AUC score:\", roc_auc_score(y_pred, y_pred_prob))"
      ]
    },
    {
      "cell_type": "markdown",
      "source": [
        "Random Forest is a versatile machine learning method capable of performing both regression and classification tasks.  \n",
        "\n",
        "We have imported RandomForestClassifier from sklearn.ensemble library\n",
        "\n",
        "We train the model by fitting X_train and y_train and predict the target variable as y_pred.\n",
        "\n",
        "The output of this model indicates excellent performance by the model. The Confusion matrix shows no false positives and no false negatives, that means the model predicted all the instances correctly.\n",
        "\n",
        "The Classification report gives the perfect precision, recall and f1 scores for both the classes: gas and diesel wit 100% accuracy.\n",
        "\n",
        "The AUC score of 1.0 indicates the model is able to distinguish between positive and negative classes perfectly.\n",
        "\n",
        "The overall performance of this model is high and perfect.\n"
      ],
      "metadata": {
        "id": "HNsOAqWLTupz"
      },
      "id": "HNsOAqWLTupz"
    },
    {
      "cell_type": "markdown",
      "id": "66c75879",
      "metadata": {
        "id": "66c75879"
      },
      "source": [
        "### 3.5 Compare your results and comment on your findings. Which one(s) did the best job? What could have been the problem with the ones that did not work? etc."
      ]
    },
    {
      "cell_type": "markdown",
      "source": [
        "The Confusion Matrix, Classification Report and AUC score of differnt models are reported above. The models: Logistic Regression, Naive Bayes Classifier and Random Forest Classifier performed exceptionally well. There are False positives and False negatives which these models predicted correctly. These models have acheived 100% accuracy, Recall, Precision and F1 scores. This proves that all these models made no mistakes in classifying the test data set.  \n",
        "\n",
        "The KNN model performed poorly with an AUC score of 0.55. All other models performs 45% better than KNN model. This model has 8 False negatives whereas all other models have 0. The accuracy is 86%. The Recall and F1 score are affected as well. This could be due to the imbalanced nature of the dataset. Hence, it is recommended to perform dataset balancing techniques on the dataset and test the model."
      ],
      "metadata": {
        "id": "4eFl0yen7CWi"
      },
      "id": "4eFl0yen7CWi"
    },
    {
      "cell_type": "markdown",
      "id": "d3740e1a",
      "metadata": {
        "id": "d3740e1a"
      },
      "source": [
        "## 4. Bonus question (5 extra points)\n",
        "**Try to fix the inbalanced nature of the data with a tool from the lecture. Run one of the classification methods (preferable one that \"failed\" before) and see if you get better results.**"
      ]
    },
    {
      "cell_type": "code",
      "execution_count": null,
      "id": "fdf64977",
      "metadata": {
        "colab": {
          "base_uri": "https://localhost:8080/"
        },
        "id": "fdf64977",
        "outputId": "6a5dd25d-fe20-4631-8074-a39eac8b0a34"
      },
      "outputs": [
        {
          "output_type": "stream",
          "name": "stdout",
          "text": [
            "Confusion Matrix:\n",
            " [[44  6]\n",
            " [ 4  5]]\n",
            "Classification Report:\n",
            "               precision    recall  f1-score   support\n",
            "\n",
            "           0       0.92      0.88      0.90        50\n",
            "           1       0.45      0.56      0.50         9\n",
            "\n",
            "    accuracy                           0.83        59\n",
            "   macro avg       0.69      0.72      0.70        59\n",
            "weighted avg       0.85      0.83      0.84        59\n",
            "\n",
            "AUC score: 0.7177777777777777\n"
          ]
        }
      ],
      "source": [
        "#your code\n",
        "from imblearn.over_sampling import SMOTE\n",
        "\n",
        "smote = SMOTE(random_state=746)\n",
        "X_balanced, y_balanced = smote.fit_resample(X_train, y_train)\n",
        "\n",
        "opt_knn = KNeighborsClassifier(n_neighbors=k)\n",
        "opt_knn.fit(X_balanced, y_balanced)\n",
        "y_pred = opt_knn.predict(X_test)\n",
        "\n",
        "print(\"Confusion Matrix:\\n\", confusion_matrix(y_test, y_pred))\n",
        "print(\"Classification Report:\\n\", classification_report(y_test, y_pred))\n",
        "print(\"AUC score:\", roc_auc_score(y_test, y_pred))\n"
      ]
    },
    {
      "cell_type": "markdown",
      "source": [
        "SMOTE (Synthetic Minority Oversampling Technique) is one of the resampling techniques to fix the imbalanced dataset.  \n",
        "This technique generates synthetic samples from class 1 to balance the class distribution.\n",
        "\n",
        "The resampled data is stored in X_balanced and y_balanced and fitted in the KNN model.  \n",
        "There are significant improvements in the Confusion Matrix: The False negative are reduced to 4. In the Classification report, the recall and f1 score have increased. The AUC score has also increased to 72% which indicates improvements in the overall performance model. After balancing the data, the models performs better than before.\n",
        "\n"
      ],
      "metadata": {
        "id": "xgcNILjH94QO"
      },
      "id": "xgcNILjH94QO"
    }
  ],
  "metadata": {
    "kernelspec": {
      "display_name": "Python 3 (ipykernel)",
      "language": "python",
      "name": "python3"
    },
    "language_info": {
      "codemirror_mode": {
        "name": "ipython",
        "version": 3
      },
      "file_extension": ".py",
      "mimetype": "text/x-python",
      "name": "python",
      "nbconvert_exporter": "python",
      "pygments_lexer": "ipython3",
      "version": "3.7.3"
    },
    "colab": {
      "provenance": [],
      "include_colab_link": true
    }
  },
  "nbformat": 4,
  "nbformat_minor": 5
}